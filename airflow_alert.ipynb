{
 "cells": [
  {
   "cell_type": "code",
   "execution_count": 1,
   "id": "ed489d87-b74c-4b11-9690-c921000ffbb7",
   "metadata": {},
   "outputs": [],
   "source": [
    "import pandas as pd"
   ]
  },
  {
   "cell_type": "code",
   "execution_count": 2,
   "id": "e520c60d-f402-4352-a8ed-2611d4cfb13c",
   "metadata": {},
   "outputs": [],
   "source": [
    "path = r'C:/Users/vbodavul/Downloads/Diversity in tech companies.csv'"
   ]
  },
  {
   "cell_type": "code",
   "execution_count": 3,
   "id": "b11c22d9-8f5b-4cdf-946a-c2048265b0ac",
   "metadata": {},
   "outputs": [],
   "source": [
    "df = pd.read_csv(path)"
   ]
  },
  {
   "cell_type": "code",
   "execution_count": 5,
   "id": "ddac1479-59b3-4a5e-b0ac-eb55186c425e",
   "metadata": {},
   "outputs": [],
   "source": [
    "# Define function for data cleaning\n",
    "def clean_data(df):\n",
    "    # Replace '-' with NaN (missing value)\n",
    "    df.replace('-', pd.NA, inplace=True)\n",
    "    # Convert percentage columns to numeric\n",
    "    percentage_columns = ['Female %', 'Male %', '% White', '% Asian', '% Latino', '% Black', '% Multi', '% Other', '% Undeclared']\n",
    "    df[percentage_columns] = df[percentage_columns].apply(pd.to_numeric, errors='coerce')\n",
    "    # Replace missing values with column-wise mean, excluding non-numeric columns\n",
    "    df.fillna(df.select_dtypes(include='number').mean(), inplace=True)\n",
    "    return df\n"
   ]
  },
  {
   "cell_type": "code",
   "execution_count": 6,
   "id": "d4790a3c-537a-440b-8306-9d6198e61f9b",
   "metadata": {},
   "outputs": [],
   "source": [
    "df = clean_data(df)"
   ]
  },
  {
   "cell_type": "code",
   "execution_count": null,
   "id": "17791b67-56fb-42cc-9bdc-1827100e174d",
   "metadata": {},
   "outputs": [],
   "source": [
    "from airflow import DAG\n",
    "from airflow.operators.python_operator import PythonOperator\n",
    "from datetime import datetime\n",
    "\n",
    "def etl_process():\n",
    "    # Extract data\n",
    "    url = 'https://example.com/diversity_in_tech_companies.csv'  # Replace with actual URL\n",
    "    df = pd.read_csv(url)\n",
    "    \n",
    "    # Clean data\n",
    "    df = clean_data(df)\n",
    "    \n",
    "    # Transform data\n",
    "    # Example transformation: Calculate total percentage of female and male employees\n",
    "    total_female_percentage = df['Female %'].sum()\n",
    "    total_male_percentage = df['Male %'].sum()\n",
    "    \n",
    "    # Load data (for demonstration, we'll print the transformed data)\n",
    "    print(f'Total Female Percentage: {total_female_percentage}')\n",
    "    print(f'Total Male Percentage: {total_male_percentage}')\n",
    "\n",
    "# Define DAG\n",
    "dag = DAG(\n",
    "    'diversity_in_tech_pipeline',\n",
    "    description='ETL process for Diversity in Tech Companies dataset',\n",
    "    schedule_interval='@daily',\n",
    "    start_date=datetime(2024, 1, 1),\n",
    "    catchup=False\n",
    ")\n",
    "\n",
    "# Define task\n",
    "etl_task = PythonOperator(\n",
    "    task_id='etl_process',\n",
    "    python_callable=etl_process,\n",
    "    dag=dag\n",
    ")\n",
    "\n",
    "# Define task dependencies\n",
    "etl_task\n"
   ]
  },
  {
   "cell_type": "code",
   "execution_count": null,
   "id": "0705dc88-b15f-4621-98f1-622579103beb",
   "metadata": {},
   "outputs": [],
   "source": []
  }
 ],
 "metadata": {
  "kernelspec": {
   "display_name": "Python 3 (ipykernel)",
   "language": "python",
   "name": "python3"
  },
  "language_info": {
   "codemirror_mode": {
    "name": "ipython",
    "version": 3
   },
   "file_extension": ".py",
   "mimetype": "text/x-python",
   "name": "python",
   "nbconvert_exporter": "python",
   "pygments_lexer": "ipython3",
   "version": "3.8.0"
  }
 },
 "nbformat": 4,
 "nbformat_minor": 5
}
